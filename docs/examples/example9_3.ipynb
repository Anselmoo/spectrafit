{
 "cells": [
  {
   "cell_type": "markdown",
   "metadata": {},
   "source": [
    "## Saving Results\n",
    "\n",
    "In general, there can be saved two types of data:\n",
    "\n",
    "1. DataFrames with information about data and fit\n",
    "2. All other data, such as fit results, covariance matrices, etc. plus `raw` and `fit` as `.lock` output file."
   ]
  },
  {
   "cell_type": "code",
   "execution_count": 1,
   "metadata": {},
   "outputs": [],
   "source": [
    "# Loading packages and default data\n",
    "from spectrafit.plugins import notebook as nb\n",
    "import pandas as pd\n",
    "df = pd.read_csv(\n",
    "    \"https://raw.githubusercontent.com/Anselmoo/spectrafit/main/Examples/data.csv\"\n",
    ")"
   ]
  },
  {
   "cell_type": "markdown",
   "metadata": {},
   "source": [
    "### Load the data into the notebook-plugin of `SpectraFit`\n",
    "\n",
    "In this particular name the default output name is `example9_3.lock` and the default output directory is `./result.*`. The default output directory can be changed via the keyword `fname`."
   ]
  },
  {
   "cell_type": "code",
   "execution_count": 2,
   "metadata": {},
   "outputs": [],
   "source": [
    "spn = nb.SpectraFitNotebook(df=df, x_column=\"Energy\", y_column=\"Noisy\", fname=\"example9_3\")"
   ]
  },
  {
   "cell_type": "markdown",
   "metadata": {},
   "source": [
    "### Define the fitting model without plotting the results"
   ]
  },
  {
   "cell_type": "code",
   "execution_count": 3,
   "metadata": {},
   "outputs": [
    {
     "name": "stdout",
     "output_type": "stream",
     "text": [
      "##  Warning: uncertainties could not be estimated:\n",
      "'MinimizerResult' object has no attribute 'covar': Covariance Matrix could not be calculated.\n",
      "\n",
      "Error: Cannot determine Confidence Intervals without sensible uncertainty estimates -> No confidence interval could be calculated!\n"
     ]
    }
   ],
   "source": [
    "initial_model = [\n",
    "    {\n",
    "        \"pseudovoigt\": {\n",
    "            \"amplitude\": {\"max\": 2, \"min\": 0, \"vary\": True, \"value\": 1},\n",
    "            \"center\": {\"max\": 2, \"min\": -2, \"vary\": True, \"value\": 0},\n",
    "            \"fwhmg\": {\"max\": 0.3, \"min\": 0.02, \"vary\": True, \"value\": 0.1},\n",
    "            \"fwhml\": {\"max\": 0.2, \"min\": 0.01, \"vary\": True, \"value\": 0.1},\n",
    "        }\n",
    "    },\n",
    "    {\n",
    "        \"gaussian\": {\n",
    "            \"amplitude\": {\"max\": 2, \"min\": 0, \"vary\": True, \"value\": 0.3},\n",
    "            \"center\": {\"max\": 2., \"min\": 0, \"vary\": True, \"value\": 2},\n",
    "            \"fwhmg\": {\"max\": 0.3, \"min\": 0.02, \"vary\": True, \"value\": 0.1},\n",
    "        }\n",
    "    },\n",
    "     {\n",
    "        \"gaussian\": {\n",
    "            \"amplitude\": {\"max\": 2, \"min\": 0, \"vary\": True, \"value\": 0.3},\n",
    "            \"center\": {\"max\": 3.5, \"min\": 1.5, \"vary\": True, \"value\": 2.5},\n",
    "            \"fwhmg\": {\"max\": 0.4, \"min\": 0.02, \"vary\": True, \"value\": 0.2},\n",
    "        }\n",
    "    },\n",
    "    {\n",
    "        \"gaussian\": {\n",
    "            \"amplitude\": {\"max\": 2, \"min\": 0, \"vary\": True, \"value\": 0.3},\n",
    "            \"center\": {\"max\": 3.5, \"min\": 2, \"vary\": True, \"value\": 2.5},\n",
    "            \"fwhmg\": {\"max\": 0.4, \"min\": 0.02, \"vary\": True, \"value\": 0.3},\n",
    "        }\n",
    "    },\n",
    "    {\n",
    "        \"gaussian\": {\n",
    "            \"amplitude\": {\"max\": 2, \"min\": 0, \"vary\": True, \"value\": 0.3},\n",
    "            \"center\": {\"max\": 4.5, \"min\": 3, \"vary\": True, \"value\": 2.5},\n",
    "            \"fwhmg\": {\"max\": 0.4, \"min\": 0.02, \"vary\": True, \"value\": 0.3},\n",
    "        }\n",
    "    },\n",
    "    {\n",
    "        \"gaussian\": {\n",
    "            \"amplitude\": {\"max\": 2, \"min\": 0, \"vary\": True, \"value\": 0.3},\n",
    "            \"center\": {\"max\": 4.7, \"min\": 3.7, \"vary\": True, \"value\": 3.8},\n",
    "            \"fwhmg\": {\"max\": 0.4, \"min\": 0.02, \"vary\": True, \"value\": 0.3},\n",
    "        }\n",
    "    },\n",
    "]\n",
    "spn.solver_model(initial_model=initial_model, show_plot=False)"
   ]
  },
  {
   "cell_type": "markdown",
   "metadata": {},
   "source": [
    "### Saving the results as dataframes\n",
    "\n",
    "Results of the dataframe can be saved as a `.csv` file. The _original_, the _final fitted_, _current_ used optional _pre processed_ data can be saved as a `.csv` file as well."
   ]
  },
  {
   "cell_type": "code",
   "execution_count": 4,
   "metadata": {},
   "outputs": [],
   "source": [
    "spn.export_df_org\n",
    "spn.export_df_act\n",
    "spn.export_df_fit"
   ]
  },
  {
   "cell_type": "code",
   "execution_count": 5,
   "metadata": {},
   "outputs": [
    {
     "data": {
      "text/plain": [
       "[PosixPath('fit_example9_3.csv'),\n",
       " PosixPath('act_example9_3.csv'),\n",
       " PosixPath('org_example9_3.csv')]"
      ]
     },
     "execution_count": 5,
     "metadata": {},
     "output_type": "execute_result"
    }
   ],
   "source": [
    "from pathlib import Path\n",
    "\n",
    "list(Path(\".\").glob(\"*.csv\"))"
   ]
  },
  {
   "cell_type": "markdown",
   "metadata": {},
   "source": [
    "Finally, the results can be stored in a `.lock` file. This file contains all the information about the fit, the data, the model, the parameters, the covariance matrix, etc. The `.lock` file can be loaded back into the `SpectraFit` notebook-plugin via [`tomli`](https://pypi.org/project/tomli/)"
   ]
  }
 ],
 "metadata": {
  "kernelspec": {
   "display_name": "Python 3.9.14 ('.venv': poetry)",
   "language": "python",
   "name": "python3"
  },
  "language_info": {
   "codemirror_mode": {
    "name": "ipython",
    "version": 3
   },
   "file_extension": ".py",
   "mimetype": "text/x-python",
   "name": "python",
   "nbconvert_exporter": "python",
   "pygments_lexer": "ipython3",
   "version": "3.9.14"
  },
  "orig_nbformat": 4,
  "vscode": {
   "interpreter": {
    "hash": "9b683c2dd857ecbf7076b18804342210473ae98d60576d11d9e2c1f885eb6512"
   }
  }
 },
 "nbformat": 4,
 "nbformat_minor": 2
}
