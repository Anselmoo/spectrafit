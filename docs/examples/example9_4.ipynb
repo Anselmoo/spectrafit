{
 "cells": [
  {
   "attachments": {},
   "cell_type": "markdown",
   "metadata": {},
   "source": [
    "# Test of the RIXS Map visualization tool\n",
    "\n",
    "For visualization of the RIXS map, we use the `RixsMap` class. The class is initialized with the RIXS map data and the energy axis. The energy axis is a list of two elements: the first element is the energy axis of the RIXS map, the second element is the energy axis of the RIXS map after the energy loss correction. The energy axis is in units of eV."
   ]
  },
  {
   "cell_type": "code",
   "execution_count": null,
   "metadata": {},
   "outputs": [],
   "source": [
    "import numpy as np\n",
    "from spectrafit.plugins.rixs_visualizer import RIXSApp\n",
    "from spectrafit.api.rixs_model import SizeRatioAPI"
   ]
  },
  {
   "attachments": {},
   "cell_type": "markdown",
   "metadata": {},
   "source": [
    "## Initialization\n",
    "\n",
    "For visualization of a RIXS map, we use the `RIXSApp` class. The class only requires the _incident_ and _emission_ energy as 1D arrays. \n",
    "The RIXS map itself has to be stored as a 2D meshgrid of intensities. By default the RIXS map is assumed to be in units of eV.\n",
    "\n",
    "> Information \"it is an early version of the RIXS map visualization tool\"\n",
    "\n",
    "__Note__:\n",
    "\n",
    "In this example, a reference function is defined, which returns all __three__ required arrays for the `RixsMap` class. The first two arrays are the one-dimensional energy ranges of the incident and emission energies. The third array is the two-dimensional RIXS map."
   ]
  },
  {
   "cell_type": "code",
   "execution_count": null,
   "metadata": {},
   "outputs": [],
   "source": [
    "from typing import Tuple\n",
    "\n",
    "\n",
    "def sin2_as_rixsmap() -> Tuple[np.ndarray, np.ndarray, np.ndarray]:\n",
    "    \"\"\"Create a RIXS map with a sinusoidal intensity.\"\"\"\n",
    "    incident_energy = np.linspace(0, 10, 100)\n",
    "    emission_energy = np.linspace(0, 10, 100)\n",
    "    grid = np.meshgrid(incident_energy, emission_energy)\n",
    "    rixs_map = np.sin(grid[0]) * np.sin(grid[1])\n",
    "    return incident_energy, emission_energy, rixs_map"
   ]
  },
  {
   "cell_type": "code",
   "execution_count": null,
   "metadata": {},
   "outputs": [],
   "source": [
    "_app = RIXSApp(\n",
    "    incident_energy=sin2_as_rixsmap()[0],\n",
    "    emission_energy=sin2_as_rixsmap()[1],\n",
    "    rixs_map=sin2_as_rixsmap()[2],\n",
    "    # For avoiding issues with a too large inline visualization, please downsizing the RIXS map size\n",
    "    size=SizeRatioAPI(size=(200, 200)),\n",
    "    mode=\"inline\",\n",
    "    jupyter_dash=True,\n",
    ")"
   ]
  },
  {
   "cell_type": "code",
   "execution_count": null,
   "metadata": {},
   "outputs": [],
   "source": [
    "_app.app_run()"
   ]
  },
  {
   "attachments": {},
   "cell_type": "markdown",
   "metadata": {},
   "source": [
    "## What is needed to run similiar example?\n",
    "\n",
    "To run this example, you need to have the following __three__ target arrays:\n",
    "\n",
    "1. `incident_energy` axis as __1D array__\n",
    "2. `emission_energy` axis as __1D array__\n",
    "3. `rixs_map` as __2D array__\n",
    "\n",
    "In the example above, `sin2_as_rixsmap` is used as reference function \n",
    "to generate all three arrays, but you can use any other function that returns\n",
    "the three arrays or load them from a file, like:\n",
    "\n",
    "```python\n",
    "import pickle\n",
    "with open('rixs_map.pickle', 'rb') as f:\n",
    "    incident_energy, emission_energy, rixs_map = pickle.load(f)\n",
    "\n",
    "_app = RIXSApp(incident_energy, emission_energy, rixs_map)\n",
    "```\n",
    "\n",
    "or:\n",
    "\n",
    "```python\n",
    "import pandas as pd\n",
    "\n",
    "_app = RIXSApp(\n",
    "    incident_energy=pd.read_csv('incident_energy.csv', index_col=0).values,\n",
    "    emission_energy=pd.read_csv('emission_energy.csv', index_col=0).values,\n",
    "    # Loaded values has to be reshaped to 2D array\n",
    "    rixs_map=pd.read_csv('rixs_map.csv', index_col=0).values.reshape(100, 100)\n",
    ")\n",
    "```\n",
    "\n",
    "The example above assumes that the data is stored in the `csv` format and \n",
    "the first column is the index column. The `index_col=0` argument is used to\n",
    "skip the first column."
   ]
  }
 ],
 "metadata": {
  "kernelspec": {
   "display_name": ".venv (3.12.1)",
   "language": "python",
   "name": "python3"
  },
  "language_info": {
   "codemirror_mode": {
    "name": "ipython",
    "version": 3
   },
   "file_extension": ".py",
   "mimetype": "text/x-python",
   "name": "python",
   "nbconvert_exporter": "python",
   "pygments_lexer": "ipython3",
   "version": "3.12.1"
  },
  "orig_nbformat": 4
 },
 "nbformat": 4,
 "nbformat_minor": 2
}
