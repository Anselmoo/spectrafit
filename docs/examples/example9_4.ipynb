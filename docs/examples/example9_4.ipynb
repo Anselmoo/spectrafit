{
 "cells": [
  {
   "attachments": {},
   "cell_type": "markdown",
   "metadata": {},
   "source": [
    "# Test of the RIXS Map visualization tool\n",
    "\n",
    "For visualization of the RIXS map, we use the `RixsMap` class. The class is initialized with the RIXS map data and the energy axis. The energy axis is a list of two elements: the first element is the energy axis of the RIXS map, the second element is the energy axis of the RIXS map after the energy loss correction. The energy axis is in units of eV."
   ]
  },
  {
   "cell_type": "code",
   "execution_count": 1,
   "metadata": {},
   "outputs": [],
   "source": [
    "import numpy as np\n",
    "from spectrafit.plugins.rixs_visualizer import RIXSApp\n",
    "from spectrafit.api.rixs_model import SizeRatioAPI"
   ]
  },
  {
   "attachments": {},
   "cell_type": "markdown",
   "metadata": {},
   "source": [
    "## Initialization\n",
    "\n",
    "For visualization of a RIXS map, we use the `RIXSApp` class. The class only requires the _incident_ and _emission_ energy as 1D arrays. \n",
    "The RIXS map itself has to be stored as a 2D meshgrid of intensities. By default the RIXS map is assumed to be in units of eV.\n",
    "\n",
    "> Information \"it is an early version of the RIXS map visualization tool\"\n"
   ]
  },
  {
   "cell_type": "code",
   "execution_count": 2,
   "metadata": {},
   "outputs": [],
   "source": [
    "from typing import Tuple\n",
    "\n",
    "\n",
    "def sin2_as_rixsmap() -> Tuple[np.ndarray, np.ndarray, np.ndarray]:\n",
    "    \"\"\"Create a RIXS map with a sinusoidal intensity.\"\"\"\n",
    "    incident_energy = np.linspace(0, 10, 100)\n",
    "    emission_energy = np.linspace(0, 10, 100)\n",
    "    grid = np.meshgrid(incident_energy, emission_energy)\n",
    "    rixs_map = np.sin(grid[0]) * np.sin(grid[1])\n",
    "    return incident_energy, emission_energy, rixs_map"
   ]
  },
  {
   "cell_type": "code",
   "execution_count": 3,
   "metadata": {},
   "outputs": [],
   "source": [
    "_app = RIXSApp(\n",
    "    incident_energy=sin2_as_rixsmap()[0],\n",
    "    emission_energy=sin2_as_rixsmap()[1],\n",
    "    rixs_map=sin2_as_rixsmap()[2],\n",
    "    # For avoiding issues with a too large inline visualization, please downsizing the RIXS map size\n",
    "    size=SizeRatioAPI(size=(200, 200)),\n",
    "    mode=\"inline\",\n",
    "    jupyter_dash=True,\n",
    ")"
   ]
  },
  {
   "cell_type": "code",
   "execution_count": 4,
   "metadata": {},
   "outputs": [
    {
     "data": {
      "text/html": [
       "\n",
       "        <iframe\n",
       "            width=\"100%\"\n",
       "            height=\"650\"\n",
       "            src=\"http://127.0.0.1:8050/\"\n",
       "            frameborder=\"0\"\n",
       "            allowfullscreen\n",
       "            \n",
       "        ></iframe>\n",
       "        "
      ],
      "text/plain": [
       "<IPython.lib.display.IFrame at 0x2a0381390>"
      ]
     },
     "metadata": {},
     "output_type": "display_data"
    }
   ],
   "source": [
    "_app.app_run()"
   ]
  },
  {
   "cell_type": "markdown",
   "metadata": {},
   "source": [
    "![_](https://github.com/Anselmoo/spectrafit/raw/main/docs/examples/images/Figure_9_4.png)"
   ]
  }
 ],
 "metadata": {
  "kernelspec": {
   "display_name": ".venv",
   "language": "python",
   "name": "python3"
  },
  "language_info": {
   "codemirror_mode": {
    "name": "ipython",
    "version": 3
   },
   "file_extension": ".py",
   "mimetype": "text/x-python",
   "name": "python",
   "nbconvert_exporter": "python",
   "pygments_lexer": "ipython3",
   "version": "3.10.9"
  },
  "orig_nbformat": 4,
  "vscode": {
   "interpreter": {
    "hash": "b199af289ce012bb6a24205fcd5edae736294423f0e29474acbaa2e2fdaf4f82"
   }
  }
 },
 "nbformat": 4,
 "nbformat_minor": 2
}
