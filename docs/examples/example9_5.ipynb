{
 "cells": [
  {
   "attachments": {},
   "cell_type": "markdown",
   "metadata": {},
   "source": [
    "# About RIXS Plugins"
   ]
  },
  {
   "attachments": {},
   "cell_type": "markdown",
   "metadata": {},
   "source": [
    "## About PKL Converter and Visualizer"
   ]
  },
  {
   "cell_type": "code",
   "execution_count": 1,
   "metadata": {},
   "outputs": [],
   "source": [
    "from spectrafit.plugins.pkl_converter import PklConverter\n",
    "from spectrafit.plugins.pkl_visualizer import PklVisualizer"
   ]
  },
  {
   "attachments": {},
   "cell_type": "markdown",
   "metadata": {},
   "source": [
    "## About RIXS Converter and Visualizer"
   ]
  },
  {
   "cell_type": "code",
   "execution_count": 2,
   "metadata": {},
   "outputs": [],
   "source": [
    "from spectrafit.plugins.rixs_converter import RIXSConverter\n",
    "from spectrafit.plugins.rixs_visualizer import RIXSVisualizer"
   ]
  },
  {
   "attachments": {},
   "cell_type": "markdown",
   "metadata": {},
   "source": [
    "### Example code as a Python module:\n",
    "\n",
    "```python\n",
    "    from spectrafit.plugins.pkl_converter import PklConverter\n",
    "    from spectrafit.plugins.rixs_converter import RIXSConverter\n",
    "    from spectrafit.plugins.rixs_visualizer import RIXSApp\n",
    "\n",
    "    pkl_data = PklConverter.convert(\n",
    "        infile=\"test.pkl\",\n",
    "    )\n",
    "    rixs_data = RIXSConverter.convert(\n",
    "        infile=\"test.pkl\",\n",
    "    )\n",
    "    RIXSApp(**rixs_data).app_run()\n",
    "```"
   ]
  }
 ],
 "metadata": {
  "kernelspec": {
   "display_name": ".venv",
   "language": "python",
   "name": "python3"
  },
  "language_info": {
   "codemirror_mode": {
    "name": "ipython",
    "version": 3
   },
   "file_extension": ".py",
   "mimetype": "text/x-python",
   "name": "python",
   "nbconvert_exporter": "python",
   "pygments_lexer": "ipython3",
   "version": "3.10.9 (main, Dec 21 2022, 15:55:14) [Clang 14.0.0 (clang-1400.0.29.202)]"
  },
  "orig_nbformat": 4,
  "vscode": {
   "interpreter": {
    "hash": "b199af289ce012bb6a24205fcd5edae736294423f0e29474acbaa2e2fdaf4f82"
   }
  }
 },
 "nbformat": 4,
 "nbformat_minor": 2
}
