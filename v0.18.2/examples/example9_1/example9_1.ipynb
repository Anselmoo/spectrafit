{
 "cells": [
  {
   "attachments": {},
   "cell_type": "markdown",
   "metadata": {},
   "source": [
    "## Regular Usage of the Jupyter-Notebook extension for `SpectraFit` \n",
    "\n",
    "This notebook shows how to use the Jupyter-Notebook extension for `SpectraFit` to fit a spectrum. In order to use the extension, you need to install the `SpectraFit` like the following:\n",
    "\n",
    "```bash\n",
    "pip install spectrafit[jupyter]\n",
    "```\n",
    "\n",
    "or straight in the notebook:\n",
    "\n",
    "```python\n",
    "! pip install spectrafit[jupyter]\n",
    "```\n",
    "Then, you need to enable the extension by running the following command in the terminal:"
   ]
  },
  {
   "cell_type": "code",
   "execution_count": null,
   "metadata": {},
   "outputs": [],
   "source": [
    "from spectrafit.plugins import notebook as nb"
   ]
  },
  {
   "cell_type": "markdown",
   "metadata": {},
   "source": [
    "Other regular packages are already installed:\n",
    "\n",
    "1. `numpy`\n",
    "2. `matplotlib`\n",
    "3. `scipy`\n",
    "4. `pandas`\n",
    "\n",
    "So that the data / spectra can be loaded and plotted.\n"
   ]
  },
  {
   "cell_type": "code",
   "execution_count": null,
   "metadata": {},
   "outputs": [],
   "source": [
    "import pandas as pd\n",
    "import matplotlib\n",
    "\n",
    "# %matplotlib inline"
   ]
  },
  {
   "cell_type": "code",
   "execution_count": null,
   "metadata": {},
   "outputs": [],
   "source": [
    "df = pd.read_csv(\n",
    "    \"https://raw.githubusercontent.com/Anselmoo/spectrafit/main/Examples/data.csv\"\n",
    ")\n",
    "df.plot(x=\"Energy\", y=\"Noisy\", kind=\"line\", label=\"Spectra\")"
   ]
  },
  {
   "cell_type": "markdown",
   "metadata": {},
   "source": [
    "The `spectra` aboive shows a _pseudo_ 2p3d spectrum, see also: https://doi.org/10.1021/acs.inorgchem.8b01550"
   ]
  },
  {
   "cell_type": "markdown",
   "metadata": {},
   "source": [
    "### Load the data into the notebook-plugin of `SpectraFit`"
   ]
  },
  {
   "cell_type": "code",
   "execution_count": null,
   "metadata": {},
   "outputs": [],
   "source": [
    "spn = nb.SpectraFitNotebook(df=df, x_column=\"Energy\", y_column=\"Noisy\")"
   ]
  },
  {
   "cell_type": "markdown",
   "metadata": {},
   "source": [
    "### Define the fitting model"
   ]
  },
  {
   "cell_type": "code",
   "execution_count": null,
   "metadata": {},
   "outputs": [],
   "source": [
    "initial_model = [\n",
    "    {\n",
    "        \"pseudovoigt\": {\n",
    "            \"amplitude\": {\"max\": 2, \"min\": 0, \"vary\": True, \"value\": 1},\n",
    "            \"center\": {\"max\": 2, \"min\": -2, \"vary\": True, \"value\": 0},\n",
    "            \"fwhmg\": {\"max\": 0.3, \"min\": 0.02, \"vary\": True, \"value\": 0.1},\n",
    "            \"fwhml\": {\"max\": 0.2, \"min\": 0.01, \"vary\": True, \"value\": 0.1},\n",
    "        }\n",
    "    },\n",
    "    {\n",
    "        \"gaussian\": {\n",
    "            \"amplitude\": {\"max\": 2, \"min\": 0, \"vary\": True, \"value\": 0.3},\n",
    "            \"center\": {\"max\": 2.0, \"min\": 0, \"vary\": True, \"value\": 2},\n",
    "            \"fwhmg\": {\"max\": 0.3, \"min\": 0.02, \"vary\": True, \"value\": 0.1},\n",
    "        }\n",
    "    },\n",
    "    {\n",
    "        \"gaussian\": {\n",
    "            \"amplitude\": {\"max\": 2, \"min\": 0, \"vary\": True, \"value\": 0.3},\n",
    "            \"center\": {\"max\": 3.5, \"min\": 1.5, \"vary\": True, \"value\": 2.5},\n",
    "            \"fwhmg\": {\"max\": 0.4, \"min\": 0.02, \"vary\": True, \"value\": 0.2},\n",
    "        }\n",
    "    },\n",
    "    {\n",
    "        \"gaussian\": {\n",
    "            \"amplitude\": {\"max\": 2, \"min\": 0, \"vary\": True, \"value\": 0.3},\n",
    "            \"center\": {\"max\": 3.5, \"min\": 2, \"vary\": True, \"value\": 2.5},\n",
    "            \"fwhmg\": {\"max\": 0.4, \"min\": 0.02, \"vary\": True, \"value\": 0.3},\n",
    "        }\n",
    "    },\n",
    "    {\n",
    "        \"gaussian\": {\n",
    "            \"amplitude\": {\"max\": 2, \"min\": 0, \"vary\": True, \"value\": 0.3},\n",
    "            \"center\": {\"max\": 4.5, \"min\": 3, \"vary\": True, \"value\": 2.5},\n",
    "            \"fwhmg\": {\"max\": 0.4, \"min\": 0.02, \"vary\": True, \"value\": 0.3},\n",
    "        }\n",
    "    },\n",
    "    {\n",
    "        \"gaussian\": {\n",
    "            \"amplitude\": {\"max\": 2, \"min\": 0, \"vary\": True, \"value\": 0.3},\n",
    "            \"center\": {\"max\": 4.7, \"min\": 3.7, \"vary\": True, \"value\": 3.8},\n",
    "            \"fwhmg\": {\"max\": 0.4, \"min\": 0.02, \"vary\": True, \"value\": 0.3},\n",
    "        }\n",
    "    },\n",
    "]"
   ]
  },
  {
   "cell_type": "markdown",
   "metadata": {},
   "source": [
    "### Run the fitting with the proposed `initial_model`"
   ]
  },
  {
   "cell_type": "code",
   "execution_count": null,
   "metadata": {},
   "outputs": [],
   "source": [
    "spn.solver_model(initial_model=initial_model)"
   ]
  },
  {
   "cell_type": "markdown",
   "metadata": {},
   "source": [
    "![example_9_1](https://github.com/Anselmoo/spectrafit/blob/e2f1616a2ca0eda15f2de1d1aa25281b3e05fc8c/docs/examples/images/Figure_9_1.png?raw=true)\n",
    "![example_9_1_m](https://github.com/Anselmoo/spectrafit/blob/617774defc5a42da302b7c594ccb10d3974ebe0c/docs/examples/images/Figure_9_1_m.png?raw=true)"
   ]
  },
  {
   "cell_type": "markdown",
   "metadata": {},
   "source": [
    "### Show the dataframe with the fitted parameters"
   ]
  },
  {
   "cell_type": "code",
   "execution_count": null,
   "metadata": {},
   "outputs": [],
   "source": [
    "spn.display_fit_df(mode=\"interactive\")"
   ]
  },
  {
   "cell_type": "markdown",
   "metadata": {},
   "source": [
    "### Metric Plot of the fitted model\n",
    "\n",
    "`SpectraFit` also shows the metric of the fitted model.\n",
    "The plot shows the metric of the fitted model for each run. The metric consits of\n",
    "the `goodness of fit` and the `regression metric` of the model. By default, the\n",
    "`Akaike Information Criterion` and `Bayesian Information Criteria` are used \n",
    "for the bar plot and the `Mean Squared Error` for the line plot."
   ]
  },
  {
   "cell_type": "code",
   "execution_count": null,
   "metadata": {},
   "outputs": [],
   "source": [
    "initial_model = [\n",
    "    {\n",
    "        \"pseudovoigt\": {\n",
    "            \"amplitude\": {\"max\": 2, \"min\": 0, \"vary\": True, \"value\": 1},\n",
    "            \"center\": {\"max\": 2, \"min\": -2, \"vary\": True, \"value\": 0},\n",
    "            \"fwhmg\": {\"max\": 0.3, \"min\": 0.02, \"vary\": True, \"value\": 0.1},\n",
    "            \"fwhml\": {\"max\": 0.2, \"min\": 0.01, \"vary\": True, \"value\": 0.1},\n",
    "        }\n",
    "    },\n",
    "    {\n",
    "        \"gaussian\": {\n",
    "            \"amplitude\": {\"max\": 2, \"min\": 0, \"vary\": True, \"value\": 0.3},\n",
    "            \"center\": {\"max\": 2.0, \"min\": 0, \"vary\": True, \"value\": 2},\n",
    "            \"fwhmg\": {\"max\": 0.3, \"min\": 0.02, \"vary\": True, \"value\": 0.1},\n",
    "        }\n",
    "    },\n",
    "    {\n",
    "        \"gaussian\": {\n",
    "            \"amplitude\": {\"max\": 2, \"min\": 0, \"vary\": True, \"value\": 0.3},\n",
    "            \"center\": {\"max\": 3.5, \"min\": 1.5, \"vary\": True, \"value\": 2.5},\n",
    "            \"fwhmg\": {\"max\": 0.4, \"min\": 0.02, \"vary\": True, \"value\": 0.2},\n",
    "        }\n",
    "    },\n",
    "    {\n",
    "        \"gaussian\": {\n",
    "            \"amplitude\": {\"max\": 2, \"min\": 0, \"vary\": True, \"value\": 0.3},\n",
    "            \"center\": {\"max\": 3.5, \"min\": 1.5, \"vary\": True, \"value\": 2.5},\n",
    "            \"fwhmg\": {\"max\": 0.4, \"min\": 0.02, \"vary\": True, \"value\": 0.2},\n",
    "        }\n",
    "    },\n",
    "    {\n",
    "        \"gaussian\": {\n",
    "            \"amplitude\": {\"max\": 2, \"min\": 0, \"vary\": True, \"value\": 0.3},\n",
    "            \"center\": {\"max\": 3.25, \"min\": 1.8, \"vary\": True, \"value\": 2.5},\n",
    "            \"fwhmg\": {\"max\": 0.4, \"min\": 0.02, \"vary\": True, \"value\": 0.3},\n",
    "        }\n",
    "    },\n",
    "    {\n",
    "        \"gaussian\": {\n",
    "            \"amplitude\": {\"max\": 2, \"min\": 0, \"vary\": True, \"value\": 0.3},\n",
    "            \"center\": {\"max\": 3.5, \"min\": 2, \"vary\": True, \"value\": 2.5},\n",
    "            \"fwhmg\": {\"max\": 0.4, \"min\": 0.02, \"vary\": True, \"value\": 0.3},\n",
    "        }\n",
    "    },\n",
    "    {\n",
    "        \"gaussian\": {\n",
    "            \"amplitude\": {\"max\": 2, \"min\": 0, \"vary\": True, \"value\": 0.3},\n",
    "            \"center\": {\"max\": 4.5, \"min\": 3, \"vary\": True, \"value\": 2.5},\n",
    "            \"fwhmg\": {\"max\": 0.4, \"min\": 0.02, \"vary\": True, \"value\": 0.3},\n",
    "        }\n",
    "    },\n",
    "    {\n",
    "        \"gaussian\": {\n",
    "            \"amplitude\": {\"max\": 2, \"min\": 0, \"vary\": True, \"value\": 0.3},\n",
    "            \"center\": {\"max\": 4.5, \"min\": 3, \"vary\": True, \"value\": 2.5},\n",
    "            \"fwhmg\": {\"max\": 0.4, \"min\": 0.02, \"vary\": True, \"value\": 0.3},\n",
    "        }\n",
    "    },\n",
    "    {\n",
    "        \"gaussian\": {\n",
    "            \"amplitude\": {\"max\": 2, \"min\": 0, \"vary\": True, \"value\": 0.3},\n",
    "            \"center\": {\"max\": 4.7, \"min\": 3.7, \"vary\": True, \"value\": 3.8},\n",
    "            \"fwhmg\": {\"max\": 0.4, \"min\": 0.02, \"vary\": True, \"value\": 0.3},\n",
    "        }\n",
    "    },\n",
    "]\n",
    "spn.solver_model(initial_model=initial_model, conf_interval=False)"
   ]
  },
  {
   "attachments": {},
   "cell_type": "markdown",
   "metadata": {},
   "source": [
    "### Fit Plot\n",
    "\n",
    "![Figure_9_1_a1](https://github.com/Anselmoo/spectrafit/blob/617774defc5a42da302b7c594ccb10d3974ebe0c/docs/examples/images/Figure_9_1_a1.png?raw=true)"
   ]
  },
  {
   "attachments": {},
   "cell_type": "markdown",
   "metadata": {},
   "source": [
    "### Metric Blogs\n",
    "\n",
    "![Figure_9_1_a2](https://github.com/Anselmoo/spectrafit/blob/617774defc5a42da302b7c594ccb10d3974ebe0c/docs/examples/images/Figure_9_1_a2.png?raw=true)"
   ]
  }
 ],
 "metadata": {
  "kernelspec": {
   "display_name": ".venv",
   "language": "python",
   "name": "python3"
  },
  "language_info": {
   "codemirror_mode": {
    "name": "ipython",
    "version": 3
   },
   "file_extension": ".py",
   "mimetype": "text/x-python",
   "name": "python",
   "nbconvert_exporter": "python",
   "pygments_lexer": "ipython3",
   "version": "3.10.9"
  },
  "orig_nbformat": 4,
  "vscode": {
   "interpreter": {
    "hash": "b199af289ce012bb6a24205fcd5edae736294423f0e29474acbaa2e2fdaf4f82"
   }
  }
 },
 "nbformat": 4,
 "nbformat_minor": 2
}
