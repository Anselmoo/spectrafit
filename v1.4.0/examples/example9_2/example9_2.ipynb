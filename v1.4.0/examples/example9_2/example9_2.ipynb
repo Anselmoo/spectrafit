{
 "cells": [
  {
   "cell_type": "markdown",
   "metadata": {},
   "source": [
    "## Using of themes for the plots\n",
    "\n",
    "For working with different color themes, you can import `color_schemas` into the Notebook and overwrite the default theme.\n",
    " "
   ]
  },
  {
   "cell_type": "code",
   "execution_count": null,
   "metadata": {},
   "outputs": [],
   "source": [
    "# Loading packages and default data\n",
    "from __future__ import annotations\n",
    "\n",
    "import pandas as pd\n",
    "\n",
    "from spectrafit.plugins import notebook as nb\n",
    "\n",
    "\n",
    "\n",
    "\n",
    "df = pd.read_csv(\n",
    "    \"https://raw.githubusercontent.com/Anselmoo/spectrafit/main/Examples/data.csv\",\n",
    ")"
   ]
  },
  {
   "cell_type": "markdown",
   "metadata": {},
   "source": [
    "## Color Themes"
   ]
  },
  {
   "cell_type": "markdown",
   "metadata": {},
   "source": [
    "### Dracula Theme"
   ]
  },
  {
   "cell_type": "markdown",
   "metadata": {},
   "source": [
    "#### Loading of the _new_ theme"
   ]
  },
  {
   "cell_type": "code",
   "execution_count": null,
   "metadata": {},
   "outputs": [],
   "source": [
    "from spectrafit.plugins import color_schemas as cs\n",
    "\n",
    "\n",
    "\n",
    "\n",
    "spn = nb.SpectraFitNotebook(\n",
    "    df=df,\n",
    "    x_column=\"Energy\",\n",
    "    y_column=\"Noisy\",\n",
    "    color=cs.DraculaColor(),\n",
    "    font=cs.DraculaFont(),\n",
    ")"
   ]
  },
  {
   "cell_type": "markdown",
   "metadata": {},
   "source": [
    "#### Define the fitting model as usual"
   ]
  },
  {
   "cell_type": "code",
   "execution_count": null,
   "metadata": {},
   "outputs": [],
   "source": [
    "initial_model = [\n",
    "    {\n",
    "        \"pseudovoigt\": {\n",
    "            \"amplitude\": {\"max\": 2, \"min\": 0, \"vary\": True, \"value\": 1},\n",
    "            \"center\": {\"max\": 2, \"min\": -2, \"vary\": True, \"value\": 0},\n",
    "            \"fwhmg\": {\"max\": 0.3, \"min\": 0.02, \"vary\": True, \"value\": 0.1},\n",
    "            \"fwhml\": {\"max\": 0.2, \"min\": 0.01, \"vary\": True, \"value\": 0.1},\n",
    "        },\n",
    "    },\n",
    "    {\n",
    "        \"gaussian\": {\n",
    "            \"amplitude\": {\"max\": 2, \"min\": 0, \"vary\": True, \"value\": 0.3},\n",
    "            \"center\": {\"max\": 2.0, \"min\": 0, \"vary\": True, \"value\": 2},\n",
    "            \"fwhmg\": {\"max\": 0.3, \"min\": 0.02, \"vary\": True, \"value\": 0.1},\n",
    "        },\n",
    "    },\n",
    "    {\n",
    "        \"gaussian\": {\n",
    "            \"amplitude\": {\"max\": 2, \"min\": 0, \"vary\": True, \"value\": 0.3},\n",
    "            \"center\": {\"max\": 3.5, \"min\": 1.5, \"vary\": True, \"value\": 2.5},\n",
    "            \"fwhmg\": {\"max\": 0.4, \"min\": 0.02, \"vary\": True, \"value\": 0.2},\n",
    "        },\n",
    "    },\n",
    "    {\n",
    "        \"gaussian\": {\n",
    "            \"amplitude\": {\"max\": 2, \"min\": 0, \"vary\": True, \"value\": 0.3},\n",
    "            \"center\": {\"max\": 3.5, \"min\": 2, \"vary\": True, \"value\": 2.5},\n",
    "            \"fwhmg\": {\"max\": 0.4, \"min\": 0.02, \"vary\": True, \"value\": 0.3},\n",
    "        },\n",
    "    },\n",
    "    {\n",
    "        \"gaussian\": {\n",
    "            \"amplitude\": {\"max\": 2, \"min\": 0, \"vary\": True, \"value\": 0.3},\n",
    "            \"center\": {\"max\": 4.5, \"min\": 3, \"vary\": True, \"value\": 2.5},\n",
    "            \"fwhmg\": {\"max\": 0.4, \"min\": 0.02, \"vary\": True, \"value\": 0.3},\n",
    "        },\n",
    "    },\n",
    "    {\n",
    "        \"gaussian\": {\n",
    "            \"amplitude\": {\"max\": 2, \"min\": 0, \"vary\": True, \"value\": 0.3},\n",
    "            \"center\": {\"max\": 4.7, \"min\": 3.7, \"vary\": True, \"value\": 3.8},\n",
    "            \"fwhmg\": {\"max\": 0.4, \"min\": 0.02, \"vary\": True, \"value\": 0.3},\n",
    "        },\n",
    "    },\n",
    "]"
   ]
  },
  {
   "cell_type": "markdown",
   "metadata": {},
   "source": [
    "#### Run fitting and plot the results in the dark theme"
   ]
  },
  {
   "cell_type": "code",
   "execution_count": null,
   "metadata": {},
   "outputs": [],
   "source": [
    "spn.solver_model(initial_model=initial_model)"
   ]
  },
  {
   "cell_type": "markdown",
   "metadata": {},
   "source": [
    "### MoonAki theme"
   ]
  },
  {
   "cell_type": "code",
   "execution_count": null,
   "metadata": {},
   "outputs": [],
   "source": [
    "from spectrafit.plugins import color_schemas as cs\n",
    "\n",
    "\n",
    "\n",
    "\n",
    "spn = nb.SpectraFitNotebook(\n",
    "    df=df,\n",
    "    x_column=\"Energy\",\n",
    "    y_column=\"Noisy\",\n",
    "    color=cs.MoonAkiColor(),\n",
    "    font=cs.MoonAkiFont(),\n",
    ")\n",
    "spn.solver_model(initial_model=initial_model)"
   ]
  },
  {
   "cell_type": "markdown",
   "metadata": {},
   "source": [
    "### DevOps Dark Theme"
   ]
  },
  {
   "cell_type": "code",
   "execution_count": null,
   "metadata": {},
   "outputs": [],
   "source": [
    "from spectrafit.plugins import color_schemas as cs\n",
    "\n",
    "\n",
    "\n",
    "\n",
    "spn = nb.SpectraFitNotebook(\n",
    "    df=df,\n",
    "    x_column=\"Energy\",\n",
    "    y_column=\"Noisy\",\n",
    "    color=cs.DevOpsDarkColor(),\n",
    "    font=cs.DevOpsDarkFont(),\n",
    ")\n",
    "spn.solver_model(initial_model=initial_model)"
   ]
  },
  {
   "cell_type": "markdown",
   "metadata": {},
   "source": [
    "## Light Color Themes"
   ]
  },
  {
   "cell_type": "markdown",
   "metadata": {},
   "source": [
    "### Color Blind Theme"
   ]
  },
  {
   "cell_type": "code",
   "execution_count": null,
   "metadata": {},
   "outputs": [],
   "source": [
    "from spectrafit.plugins import color_schemas as cs\n",
    "\n",
    "\n",
    "\n",
    "\n",
    "spn = nb.SpectraFitNotebook(\n",
    "    df=df,\n",
    "    x_column=\"Energy\",\n",
    "    y_column=\"Noisy\",\n",
    "    color=cs.ColorBlindColor(),\n",
    "    font=cs.ColorBlindFont(),\n",
    ")\n",
    "spn.solver_model(initial_model=initial_model)"
   ]
  },
  {
   "cell_type": "markdown",
   "metadata": {},
   "source": [
    "### DevOps Light Theme"
   ]
  },
  {
   "cell_type": "code",
   "execution_count": null,
   "metadata": {},
   "outputs": [],
   "source": [
    "from spectrafit.plugins import color_schemas as cs\n",
    "\n",
    "\n",
    "\n",
    "\n",
    "spn = nb.SpectraFitNotebook(\n",
    "    df=df,\n",
    "    x_column=\"Energy\",\n",
    "    y_column=\"Noisy\",\n",
    "    color=cs.DevOpsLightColor(),\n",
    "    font=cs.DevOpsLightFont(),\n",
    ")\n",
    "spn.solver_model(initial_model=initial_model)"
   ]
  },
  {
   "cell_type": "markdown",
   "metadata": {},
   "source": []
  }
 ],
 "metadata": {
  "kernelspec": {
   "display_name": ".venv",
   "language": "python",
   "name": "python3"
  },
  "language_info": {
   "codemirror_mode": {
    "name": "ipython",
    "version": 3
   },
   "file_extension": ".py",
   "mimetype": "text/x-python",
   "name": "python",
   "nbconvert_exporter": "python",
   "pygments_lexer": "ipython3",
   "version": "3.11.4"
  },
  "orig_nbformat": 4,
  "vscode": {
   "interpreter": {
    "hash": "b199af289ce012bb6a24205fcd5edae736294423f0e29474acbaa2e2fdaf4f82"
   }
  }
 },
 "nbformat": 4,
 "nbformat_minor": 2
}
